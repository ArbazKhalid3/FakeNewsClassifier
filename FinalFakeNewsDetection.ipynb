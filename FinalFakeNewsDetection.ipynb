{
  "nbformat": 4,
  "nbformat_minor": 0,
  "metadata": {
    "colab": {
      "provenance": [],
      "authorship_tag": "ABX9TyNLR7gHiURLejtFE5MYHbXk",
      "include_colab_link": true
    },
    "kernelspec": {
      "name": "python3",
      "display_name": "Python 3"
    },
    "language_info": {
      "name": "python"
    }
  },
  "cells": [
    {
      "cell_type": "markdown",
      "metadata": {
        "id": "view-in-github",
        "colab_type": "text"
      },
      "source": [
        "<a href=\"https://colab.research.google.com/github/ArbazKhalid3/FakeNewsClassifier/blob/main/FinalFakeNewsDetection.ipynb\" target=\"_parent\"><img src=\"https://colab.research.google.com/assets/colab-badge.svg\" alt=\"Open In Colab\"/></a>"
      ]
    },
    {
      "cell_type": "markdown",
      "source": [
        "#Import Libraries\n"
      ],
      "metadata": {
        "id": "Qw0LnljfKJlh"
      }
    },
    {
      "cell_type": "code",
      "execution_count": null,
      "metadata": {
        "id": "dlSiAeqkHLeC"
      },
      "outputs": [],
      "source": [
        "import pandas as pd\n",
        "import numpy as np\n",
        "import matplotlib.pyplot as plt\n",
        "import seaborn as sns\n",
        "import re\n",
        "import string\n",
        "from sklearn.model_selection import train_test_split\n",
        "from sklearn.feature_extraction.text import TfidfVectorizer\n",
        "from sklearn.linear_model import LogisticRegression\n",
        "from sklearn.tree import DecisionTreeClassifier\n",
        "from sklearn.ensemble import GradientBoostingClassifier, RandomForestClassifier\n",
        "from sklearn.metrics import classification_report, accuracy_score\n"
      ]
    },
    {
      "cell_type": "markdown",
      "source": [],
      "metadata": {
        "id": "Pv4Vd61tKMJy"
      }
    },
    {
      "cell_type": "markdown",
      "source": [
        "#Load Data"
      ],
      "metadata": {
        "id": "TBHHrCgZKROu"
      }
    },
    {
      "cell_type": "code",
      "source": [
        "# Load datasets\n",
        "data_fake = pd.read_csv('Fake.csv')\n",
        "data_true = pd.read_csv('True.csv')\n",
        "\n",
        "# Assign class labels\n",
        "data_fake['class'] = 0\n",
        "data_true['class'] = 1\n",
        "\n",
        "# Merge datasets\n",
        "data = pd.concat([data_fake, data_true], axis=0).reset_index(drop=True)\n",
        "\n",
        "# Drop unnecessary columns\n",
        "data = data.drop(['title', 'subject', 'date'], axis=1)"
      ],
      "metadata": {
        "id": "tgYL9sKiHqAk"
      },
      "execution_count": null,
      "outputs": []
    },
    {
      "cell_type": "markdown",
      "source": [
        "#Preprocess Text"
      ],
      "metadata": {
        "id": "ENQzs228KTnd"
      }
    },
    {
      "cell_type": "code",
      "source": [
        "def wordopt(text):\n",
        "    text = text.lower()\n",
        "    text = re.sub(r'\\[.*?\\]', '', text)\n",
        "    text = re.sub(r\"\\\\W\", \" \", text)\n",
        "    text = re.sub(r'https?://\\S+|www\\.\\S+', '', text)\n",
        "    text = re.sub(r'<.*?>+', '', text)\n",
        "    text = re.sub(r'[%s]' % re.escape(string.punctuation), '', text)\n",
        "    text = re.sub(r'\\w*\\d\\w*', '', text)\n",
        "    return text\n",
        "\n",
        "data['text'] = data['text'].apply(wordopt)\n"
      ],
      "metadata": {
        "id": "PkBneZ4iJu2x"
      },
      "execution_count": null,
      "outputs": []
    },
    {
      "cell_type": "markdown",
      "source": [
        "#Split Data"
      ],
      "metadata": {
        "id": "9vDmwOrhKV-A"
      }
    },
    {
      "cell_type": "code",
      "source": [
        "# Define independent (X) and dependent (y) variables\n",
        "X = data['text']\n",
        "y = data['class']\n",
        "\n",
        "# Split dataset\n",
        "X_train, X_test, y_train, y_test = train_test_split(X, y, test_size=0.25, random_state=42)\n",
        "\n",
        "# Convert text to vectors\n",
        "vectorization = TfidfVectorizer()\n",
        "X_train = vectorization.fit_transform(X_train)\n",
        "X_test = vectorization.transform(X_test)\n"
      ],
      "metadata": {
        "id": "eaFVzh5VJw2u"
      },
      "execution_count": null,
      "outputs": []
    },
    {
      "cell_type": "markdown",
      "source": [
        "#Train Logistic Regression"
      ],
      "metadata": {
        "id": "RiP6thSjKZ6Q"
      }
    },
    {
      "cell_type": "code",
      "source": [
        "LR = LogisticRegression()\n",
        "LR.fit(X_train, y_train)\n",
        "pred_lr = LR.predict(X_test)\n",
        "\n",
        "print(\"Logistic Regression Classification Report\")\n",
        "print(classification_report(y_test, pred_lr))"
      ],
      "metadata": {
        "colab": {
          "base_uri": "https://localhost:8080/"
        },
        "id": "3X3e5AM7Jzhl",
        "outputId": "73f15010-070d-4666-9711-3e1cfddb432d"
      },
      "execution_count": null,
      "outputs": [
        {
          "output_type": "stream",
          "name": "stdout",
          "text": [
            "Logistic Regression Classification Report\n",
            "              precision    recall  f1-score   support\n",
            "\n",
            "           0       0.99      0.99      0.99      5895\n",
            "           1       0.98      0.99      0.99      5330\n",
            "\n",
            "    accuracy                           0.99     11225\n",
            "   macro avg       0.99      0.99      0.99     11225\n",
            "weighted avg       0.99      0.99      0.99     11225\n",
            "\n"
          ]
        }
      ]
    },
    {
      "cell_type": "markdown",
      "source": [
        "#Train Decision Tree Classifier"
      ],
      "metadata": {
        "id": "zC_-gppoKcH0"
      }
    },
    {
      "cell_type": "code",
      "source": [
        "DT = DecisionTreeClassifier()\n",
        "DT.fit(X_train, y_train)\n",
        "pred_dt = DT.predict(X_test)\n",
        "\n",
        "print(\"Decision Tree Classification Report\")\n",
        "print(classification_report(y_test, pred_dt))"
      ],
      "metadata": {
        "colab": {
          "base_uri": "https://localhost:8080/"
        },
        "id": "S5Tj_GxyJ2US",
        "outputId": "d5341641-c81f-42bc-a21d-ee84820f5f3e"
      },
      "execution_count": null,
      "outputs": [
        {
          "output_type": "stream",
          "name": "stdout",
          "text": [
            "Decision Tree Classification Report\n",
            "              precision    recall  f1-score   support\n",
            "\n",
            "           0       1.00      1.00      1.00      5895\n",
            "           1       1.00      1.00      1.00      5330\n",
            "\n",
            "    accuracy                           1.00     11225\n",
            "   macro avg       1.00      1.00      1.00     11225\n",
            "weighted avg       1.00      1.00      1.00     11225\n",
            "\n"
          ]
        }
      ]
    },
    {
      "cell_type": "markdown",
      "source": [
        "#Train Gradient Boosting Classifier"
      ],
      "metadata": {
        "id": "Ijg_RW3pKiKp"
      }
    },
    {
      "cell_type": "code",
      "source": [
        "GB = GradientBoostingClassifier(random_state=0)\n",
        "GB.fit(X_train, y_train)\n",
        "pred_gb = GB.predict(X_test)\n",
        "\n",
        "print(\"Gradient Boosting Classification Report\")\n",
        "print(classification_report(y_test, pred_gb))"
      ],
      "metadata": {
        "colab": {
          "base_uri": "https://localhost:8080/"
        },
        "id": "omrkYyR0J63V",
        "outputId": "c1c0f969-3e7c-4a13-ac2b-171fb94ac65c"
      },
      "execution_count": null,
      "outputs": [
        {
          "output_type": "stream",
          "name": "stdout",
          "text": [
            "Gradient Boosting Classification Report\n",
            "              precision    recall  f1-score   support\n",
            "\n",
            "           0       1.00      0.99      1.00      5895\n",
            "           1       0.99      1.00      1.00      5330\n",
            "\n",
            "    accuracy                           1.00     11225\n",
            "   macro avg       1.00      1.00      1.00     11225\n",
            "weighted avg       1.00      1.00      1.00     11225\n",
            "\n"
          ]
        }
      ]
    },
    {
      "cell_type": "markdown",
      "source": [
        "#Train Random Forest Classifier"
      ],
      "metadata": {
        "id": "b1_XoDmcKlBu"
      }
    },
    {
      "cell_type": "code",
      "source": [
        "RF = RandomForestClassifier(random_state=0)\n",
        "RF.fit(X_train, y_train)\n",
        "pred_rf = RF.predict(X_test)\n",
        "\n",
        "print(\"Random Forest Classification Report\")\n",
        "print(classification_report(y_test, pred_rf))"
      ],
      "metadata": {
        "colab": {
          "base_uri": "https://localhost:8080/"
        },
        "id": "iY9PVyfSJ-Yg",
        "outputId": "81a0295c-b892-4cf7-ff50-4ceaa6cf9c3f"
      },
      "execution_count": null,
      "outputs": [
        {
          "output_type": "stream",
          "name": "stdout",
          "text": [
            "Random Forest Classification Report\n",
            "              precision    recall  f1-score   support\n",
            "\n",
            "           0       0.98      0.99      0.99      5895\n",
            "           1       0.99      0.98      0.98      5330\n",
            "\n",
            "    accuracy                           0.99     11225\n",
            "   macro avg       0.99      0.99      0.99     11225\n",
            "weighted avg       0.99      0.99      0.99     11225\n",
            "\n"
          ]
        }
      ]
    },
    {
      "cell_type": "markdown",
      "source": [
        "#Manual Testing"
      ],
      "metadata": {
        "id": "YfOoGjL1Ko4Q"
      }
    },
    {
      "cell_type": "code",
      "source": [
        "def output_label(n):\n",
        "    return \"Fake News\" if n == 0 else \"Not A Fake News\"\n",
        "\n",
        "def manual_testing(news):\n",
        "    test_data = {\"text\": [news]}\n",
        "    df = pd.DataFrame(test_data)\n",
        "    df['text'] = df['text'].apply(wordopt)\n",
        "    vectorized_test = vectorization.transform(df['text'])\n",
        "\n",
        "    pred_LR = LR.predict(vectorized_test)\n",
        "    pred_DT = DT.predict(vectorized_test)\n",
        "    pred_GB = GB.predict(vectorized_test)\n",
        "    pred_RF = RF.predict(vectorized_test)\n",
        "\n",
        "    print(\"\\nPredictions:\")\n",
        "    print(f\"Logistic Regression: {output_label(pred_LR[0])}\")\n",
        "    print(f\"Decision Tree: {output_label(pred_DT[0])}\")\n",
        "    print(f\"Gradient Boosting: {output_label(pred_GB[0])}\")\n",
        "    print(f\"Random Forest: {output_label(pred_RF[0])}\")\n"
      ],
      "metadata": {
        "id": "9idbccBoKC1L"
      },
      "execution_count": null,
      "outputs": []
    },
    {
      "cell_type": "markdown",
      "source": [],
      "metadata": {
        "id": "VV4clccfPNFT"
      }
    },
    {
      "cell_type": "markdown",
      "source": [
        "#Test the Model"
      ],
      "metadata": {
        "id": "qMWDaGi2Kr3i"
      }
    },
    {
      "cell_type": "code",
      "source": [
        "news = input(\"Enter news text to test: \")\n",
        "manual_testing(news)"
      ],
      "metadata": {
        "colab": {
          "base_uri": "https://localhost:8080/"
        },
        "id": "m6MXe1bTKEXf",
        "outputId": "36753a7a-870f-4750-a51b-260da8bb2c4a"
      },
      "execution_count": null,
      "outputs": [
        {
          "output_type": "stream",
          "name": "stdout",
          "text": [
            "Enter news text to test: \"Global COVID-19 Vaccination Efforts Continue Amidst Challenges\"  As of late 2021, countries around the world are continuing their efforts to vaccinate populations against COVID-19, with over 7 billion doses administered globally. However, the vaccine rollout has faced challenges, such as supply issues, vaccine hesitancy, and inequality between high- and low-income countries.\n",
            "\n",
            "Predictions:\n",
            "Logistic Regression: Fake News\n",
            "Decision Tree: Fake News\n",
            "Gradient Boosting: Fake News\n",
            "Random Forest: Fake News\n"
          ]
        }
      ]
    }
  ]
}